{
 "cells": [
  {
   "cell_type": "code",
   "execution_count": 1,
   "id": "b38aae9d",
   "metadata": {},
   "outputs": [],
   "source": [
    "#Answer 1.1 (Triangle Area)\n",
    "\n",
    "class area:\n",
    "    def __init__(self,a,b,c):        \n",
    "    #a,b,c are the sides of Triangles\n",
    "        self.a=a\n",
    "        self.b=b\n",
    "        self.c=c\n",
    "        \n",
    "class triangle(area):\n",
    "    def __init__(self, *args):\n",
    "        super(triangle,self).__init__(*args)\n",
    "    \n",
    "    def triarea(self):\n",
    "        s=(self.a+self.b+self.c)/2\n",
    "        area=(s*(s-self.a)*(s-self.b)*(s-self.c))**0.5\n",
    "        print('Area of Triangle is', area)\n",
    "        "
   ]
  },
  {
   "cell_type": "code",
   "execution_count": 2,
   "id": "be649535",
   "metadata": {},
   "outputs": [],
   "source": [
    "t=triangle(3,4,5)"
   ]
  },
  {
   "cell_type": "code",
   "execution_count": 3,
   "id": "cda77a89",
   "metadata": {},
   "outputs": [
    {
     "name": "stdout",
     "output_type": "stream",
     "text": [
      "Area of Triangle is 6.0\n"
     ]
    }
   ],
   "source": [
    "t.triarea()"
   ]
  },
  {
   "cell_type": "code",
   "execution_count": 4,
   "id": "a7f43708",
   "metadata": {},
   "outputs": [],
   "source": [
    "# Answer 1.2\n",
    "\n",
    "def filter_long_words(a,b):\n",
    "    c=[]\n",
    "    for i in range(len(a)):\n",
    "        if len(a[i])>b:\n",
    "            c.append(a[i])\n",
    "    print('Words lenth greater than', b)\n",
    "    return c"
   ]
  },
  {
   "cell_type": "code",
   "execution_count": 5,
   "id": "444e89be",
   "metadata": {},
   "outputs": [
    {
     "name": "stdout",
     "output_type": "stream",
     "text": [
      "Words lenth greater than 4\n"
     ]
    },
    {
     "data": {
      "text/plain": [
       "['Darshak', 'Sakhareliya', 'Harshad']"
      ]
     },
     "execution_count": 5,
     "metadata": {},
     "output_type": "execute_result"
    }
   ],
   "source": [
    "filter_long_words(['Darshak', 'Sakhareliya', 'Raj', 'Harshad'],4)"
   ]
  },
  {
   "cell_type": "code",
   "execution_count": 6,
   "id": "9128edb9",
   "metadata": {},
   "outputs": [],
   "source": [
    "# Answer 2.1\n",
    "\n",
    "def len_of_string(a):\n",
    "    c=[]\n",
    "    for i in a:\n",
    "        c.append(len(i))\n",
    "    return c\n"
   ]
  },
  {
   "cell_type": "code",
   "execution_count": 7,
   "id": "e5380f00",
   "metadata": {},
   "outputs": [
    {
     "data": {
      "text/plain": [
       "[7, 11, 3, 7]"
      ]
     },
     "execution_count": 7,
     "metadata": {},
     "output_type": "execute_result"
    }
   ],
   "source": [
    "len_of_string(['Darshak', 'Sakhareliya', 'Raj', 'Harshad'])"
   ]
  },
  {
   "cell_type": "code",
   "execution_count": 8,
   "id": "ee52d6bc",
   "metadata": {},
   "outputs": [],
   "source": [
    "# Answer 2.2\n",
    "\n",
    "def Vowels_check(a):\n",
    "    c=['a', 'e', 'i', 'o', 'u', 'A', 'E', 'I', 'O', 'U' ]\n",
    "    if a in c:\n",
    "        return True\n",
    "    else:\n",
    "        return False"
   ]
  },
  {
   "cell_type": "code",
   "execution_count": 9,
   "id": "2f9f514a",
   "metadata": {},
   "outputs": [
    {
     "data": {
      "text/plain": [
       "True"
      ]
     },
     "execution_count": 9,
     "metadata": {},
     "output_type": "execute_result"
    }
   ],
   "source": [
    "Vowels_check('o')"
   ]
  },
  {
   "cell_type": "code",
   "execution_count": null,
   "id": "1eaabb9f",
   "metadata": {},
   "outputs": [],
   "source": []
  }
 ],
 "metadata": {
  "kernelspec": {
   "display_name": "Python 3",
   "language": "python",
   "name": "python3"
  },
  "language_info": {
   "codemirror_mode": {
    "name": "ipython",
    "version": 3
   },
   "file_extension": ".py",
   "mimetype": "text/x-python",
   "name": "python",
   "nbconvert_exporter": "python",
   "pygments_lexer": "ipython3",
   "version": "3.8.8"
  }
 },
 "nbformat": 4,
 "nbformat_minor": 5
}
